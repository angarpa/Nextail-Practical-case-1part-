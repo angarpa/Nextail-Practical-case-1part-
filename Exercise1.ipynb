{
 "cells": [
  {
   "cell_type": "code",
   "execution_count": 1,
   "metadata": {},
   "outputs": [],
   "source": [
    "import pandas as pd\n",
    "import datetime as dt\n",
    "from datetime import datetime,timedelta"
   ]
  },
  {
   "cell_type": "code",
   "execution_count": 51,
   "metadata": {},
   "outputs": [],
   "source": [
    "order_date = datetime(2020,6,1)\n",
    "lead_time_days = 90 \n",
    "days_to_next_order = 30  \n",
    "current_stock_level = 400\n",
    "stock_in_transit = 600"
   ]
  },
  {
   "cell_type": "code",
   "execution_count": 3,
   "metadata": {},
   "outputs": [],
   "source": [
    "sales_data = pd.read_csv('sales_data.csv',parse_dates=['date'])"
   ]
  },
  {
   "cell_type": "code",
   "execution_count": 30,
   "metadata": {},
   "outputs": [],
   "source": [
    "def forecast_sales(start_date: datetime, sales_data: pd.DataFrame):\n",
    "    \n",
    "    mean_daily_sales = sales_data[sales_data['date'] < start_date]['sales'].mean()\n",
    "    return mean_daily_sales"
   ]
  },
  {
   "cell_type": "code",
   "execution_count": 52,
   "metadata": {},
   "outputs": [],
   "source": [
    "def calculate_new_order (order_date: datetime, lead_time_days: int, days_to_next_order: int, \n",
    "                         sales_data: pd.DataFrame, current_stock_level: int, stock_in_transit: int):\n",
    "    \n",
    "    #Order 1\n",
    "    arrival_date = order_date + timedelta(days=lead_time_days) \n",
    "    stock = current_stock_level\n",
    "    \n",
    "    #Order 2\n",
    "    order_date_2 = order_date + timedelta(days=days_to_next_order)\n",
    "    next_arrival_date = order_date_2 + timedelta(days=lead_time_days)\n",
    "    sales_forecast = forecast_sales(order_date, sales_data)\n",
    "    stock -= (sales_forecast * days_to_next_order)\n",
    "    \n",
    "    #Arrival of the order 1\n",
    "    sales_forecast = forecast_sales(order_date_2, sales_data)\n",
    "    stock += (stock_in_transit - sales_forecast * (arrival_date - order_date_2).days)\n",
    "    \n",
    "    #Arrival of the order 2\n",
    "    stock -= sales_forecast * (next_arrival_date - arrival_date).days\n",
    "    \n",
    "    return stock"
   ]
  },
  {
   "cell_type": "code",
   "execution_count": 54,
   "metadata": {},
   "outputs": [
    {
     "name": "stdout",
     "output_type": "stream",
     "text": [
      "Next order: 186.10568347486088 units\n"
     ]
    }
   ],
   "source": [
    "order = calculate_new_order (order_date=order_date, lead_time_days=lead_time_days, days_to_next_order=days_to_next_order, \n",
    "                             sales_data=sales_data, current_stock_level=current_stock_level, \n",
    "                             stock_in_transit=stock_in_transit)\n",
    "print('Next order:', abs(min(0,order)), 'units')"
   ]
  },
  {
   "cell_type": "markdown",
   "metadata": {},
   "source": [
    "We could include costs and benefits in such a way that at the end of each month the value for both would be indicated together with the final benefit. \n",
    "- Costs: €10 per unit purchased + $0.25 per unit in stock each month. In addition, the financial cost of 5% TIN would have to be added.\n",
    "- Profit: €25 for each unit of glasses sold.\n",
    "- Total profit: Profit - Costs"
   ]
  }
 ],
 "metadata": {
  "kernelspec": {
   "display_name": "Python 3",
   "language": "python",
   "name": "python3"
  },
  "language_info": {
   "codemirror_mode": {
    "name": "ipython",
    "version": 3
   },
   "file_extension": ".py",
   "mimetype": "text/x-python",
   "name": "python",
   "nbconvert_exporter": "python",
   "pygments_lexer": "ipython3",
   "version": "3.6.5"
  }
 },
 "nbformat": 4,
 "nbformat_minor": 2
}
